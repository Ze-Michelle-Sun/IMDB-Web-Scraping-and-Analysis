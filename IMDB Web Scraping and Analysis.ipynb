{
 "cells": [
  {
   "cell_type": "markdown",
   "id": "dda21676",
   "metadata": {
    "toc": true
   },
   "source": [
    "<h1>Table of Contents<span class=\"tocSkip\"></span></h1>\n",
    "<div class=\"toc\"><ul class=\"toc-item\"><li><span><a href=\"#Import-the-libraries\" data-toc-modified-id=\"Import-the-libraries-1\"><span class=\"toc-item-num\">1&nbsp;&nbsp;</span>Import the libraries</a></span></li><li><span><a href=\"#Create-lists-to-store-the-scraped-data-in\" data-toc-modified-id=\"Create-lists-to-store-the-scraped-data-in-2\"><span class=\"toc-item-num\">2&nbsp;&nbsp;</span>Create lists to store the scraped data in</a></span></li><li><span><a href=\"#Preparing-the-monitoring-of-the-loop\" data-toc-modified-id=\"Preparing-the-monitoring-of-the-loop-3\"><span class=\"toc-item-num\">3&nbsp;&nbsp;</span>Preparing the monitoring of the loop</a></span></li><li><span><a href=\"#Loop-through-years-2010---2020\" data-toc-modified-id=\"Loop-through-years-2010---2020-4\"><span class=\"toc-item-num\">4&nbsp;&nbsp;</span>Loop through years 2010 - 2020</a></span></li><li><span><a href=\"#Create-the-Movies-Pandas-Dataframe\" data-toc-modified-id=\"Create-the-Movies-Pandas-Dataframe-5\"><span class=\"toc-item-num\">5&nbsp;&nbsp;</span>Create the Movies Pandas Dataframe</a></span></li><li><span><a href=\"#Clean-up-the-year-column\" data-toc-modified-id=\"Clean-up-the-year-column-6\"><span class=\"toc-item-num\">6&nbsp;&nbsp;</span>Clean up the year column</a></span></li><li><span><a href=\"#Need-to-make-the-IMDB-and-metascore-ratings-the-same-scale\" data-toc-modified-id=\"Need-to-make-the-IMDB-and-metascore-ratings-the-same-scale-7\"><span class=\"toc-item-num\">7&nbsp;&nbsp;</span>Need to make the IMDB and metascore ratings the same scale</a></span></li><li><span><a href=\"#Write-the-results-to-a-CSV\" data-toc-modified-id=\"Write-the-results-to-a-CSV-8\"><span class=\"toc-item-num\">8&nbsp;&nbsp;</span>Write the results to a CSV</a></span></li><li><span><a href=\"#Create-two-histograms\" data-toc-modified-id=\"Create-two-histograms-9\"><span class=\"toc-item-num\">9&nbsp;&nbsp;</span>Create two histograms</a></span><ul class=\"toc-item\"><li><span><a href=\"#Create-a-histogram-of-the-average-IMDB-rating\" data-toc-modified-id=\"Create-a-histogram-of-the-average-IMDB-rating-9.1\"><span class=\"toc-item-num\">9.1&nbsp;&nbsp;</span>Create a histogram of the average IMDB rating</a></span></li><li><span><a href=\"#Create-another-histogram-of-the-average-metascore-rating\" data-toc-modified-id=\"Create-another-histogram-of-the-average-metascore-rating-9.2\"><span class=\"toc-item-num\">9.2&nbsp;&nbsp;</span>Create another histogram of the average metascore rating</a></span></li></ul></li></ul></div>"
   ]
  },
  {
   "cell_type": "markdown",
   "id": "a0993fa8",
   "metadata": {},
   "source": [
    "In this assignment you will learn to scrape multiple web pages with Python using BeautifulSoup and requests. We’ll then perform some simple analysis using pandas, and matplotlib.  We will be scraping IMDB for the movies across a decade (2010-2020) and compare the metascore and the IMDB rating.\n",
    "\n",
    "To Do’s for the assignment (50 Marks)\n",
    "\n",
    "Gather the data\n",
    "\n",
    "●\tLoop through the years_url list to vary the release_date parameter of the URL (5 Marks)\n",
    "\n",
    "●\tFor each element in years_url, loop through the pages list to vary the page parameter of the URL (5 Marks)\n",
    "\n",
    "●\tPause the loop for a time interval between 8 and 15 seconds (2 Marks)\n",
    "\n",
    "●\tThrow a warning for non-200 status codes (3 Marks)\n",
    "\n",
    "●\tBreak the loop if the number of requests is greater than the 70 expected. (2 Marks)\n",
    "\n",
    "Parse the data with Beautiful Soup\n",
    "\n",
    "●\tConvert the response‘s HTML content to a BeautifulSoup object (2 Marks)\n",
    "\n",
    "●\tExtract all movie containers from this BeautifulSoup object (3 Marks)\n",
    "\n",
    "●\tLoop through all these containers (3 Marks)\n",
    "\n",
    "●\tExtract the data if a container has a Metascore (2 Marks)\n",
    "\n",
    "Manipulate the data with Pandas\n",
    "\n",
    "●\tCreate a Pandas Dataframe to hold the info scraped (movie, years imdb_ratings, metascore, votes) (5 Marks)\n",
    "\n",
    "●\tWrite the Pandas Dataframe to a CSV (3 Marks)\n",
    "\n",
    "Visualize the data with matplotlib\n",
    "\n",
    "●\tUse matplotlib to create two histograms to visually compare the average IMDB rating to the average metascore rating (15 Marks)"
   ]
  },
  {
   "cell_type": "markdown",
   "id": "28e88822",
   "metadata": {},
   "source": [
    "# Import the libraries"
   ]
  },
  {
   "cell_type": "code",
   "execution_count": 1,
   "id": "68d2ccf8",
   "metadata": {},
   "outputs": [],
   "source": [
    "from bs4 import BeautifulSoup\n",
    "import matplotlib.pyplot as plt\n",
    "import numpy as np\n",
    "import pandas as pd\n",
    "from random import randint\n",
    "import requests\n",
    "from requests import get\n",
    "from requests.exceptions import RequestException\n",
    "from time import sleep, time\n",
    "from warnings import warn\n",
    "import re"
   ]
  },
  {
   "cell_type": "markdown",
   "id": "3a9acfed",
   "metadata": {},
   "source": [
    "# Create lists to store the scraped data in"
   ]
  },
  {
   "cell_type": "code",
   "execution_count": 2,
   "id": "3de311ab",
   "metadata": {},
   "outputs": [],
   "source": [
    "names = []\n",
    "years = []\n",
    "imdb_ratings = []\n",
    "metascores = []\n",
    "votes = []"
   ]
  },
  {
   "cell_type": "markdown",
   "id": "e3eb71c8",
   "metadata": {},
   "source": [
    "# Preparing the monitoring of the loop"
   ]
  },
  {
   "cell_type": "code",
   "execution_count": 3,
   "id": "d126618a",
   "metadata": {},
   "outputs": [],
   "source": [
    "start_time = time()\n",
    "requests = 0"
   ]
  },
  {
   "cell_type": "markdown",
   "id": "98cfc801",
   "metadata": {},
   "source": [
    "# Loop through years 2010 - 2020\n",
    "\n",
    "Scrape data from IMDB\n",
    "\n",
    "Loop through pages 1 - 5\n",
    "\n",
    "Sleep for 8 to 15 seconds\n",
    "\n",
    "Modify the requesr URL for year and page\n",
    "\n",
    "Throw a warning for non-200 status codes\n",
    "\n",
    "Break the loop if the number of requests is greater than 70\n",
    "\n",
    "Find movie containers\n",
    "\n",
    "Extract data from individual movie container\n",
    "\n",
    "If the movie has Metascore, then extract"
   ]
  },
  {
   "cell_type": "code",
   "execution_count": 4,
   "id": "c90372d1",
   "metadata": {},
   "outputs": [],
   "source": [
    "# Loop through years 2010 - 2020\n",
    "for ye in range(2010, 2021):\n",
    "\n",
    "    # Loop through pages 1 - 5\n",
    "    for page in range(1, 202, 50):\n",
    "\n",
    "        # Sleep for 8 to 15 seconds\n",
    "        sleep(randint(8,15))\n",
    "        # Modify the requesr URL for year and page\n",
    "        url = 'https://www.imdb.com/search/title/?release_date=' + \\\n",
    "            str(ye)+'-01-01,'+str(ye) + \\\n",
    "            '-12-31&sort=num_votes,desc&start='+str(page) +'&ref_=adv_nxt'\n",
    "        \n",
    "        response = get(url)\n",
    "        requests +=1\n",
    "        # Throw a warning for non-200 status codes\n",
    "        if response.status_code != 200:\n",
    "            warn('Request: {}; Status code: {}'.format(requests, response.status_code))\n",
    "        # Break the loop if the number of requests is greater than 70\n",
    "        if requests > 70:\n",
    "            break\n",
    "\n",
    "        html_soup = BeautifulSoup(response.text, 'html.parser')\n",
    "\n",
    "        # Find movie containers\n",
    "        movie_containers = html_soup.find_all('div', class_='lister-item mode-advanced')\n",
    "\n",
    "        # Extract data from individual movie container\n",
    "        for container in movie_containers:\n",
    "            # If the movie has Metascore, then extract:\n",
    "            if container.find('span', class_='metascore') is not None:\n",
    "\n",
    "                name = container.h3.a.text\n",
    "                names.append(name)\n",
    "\n",
    "                year = container.h3.find('span', class_='lister-item-year text-muted unbold').text\n",
    "                years.append(year)\n",
    "\n",
    "                imdb = float(container.strong.text)\n",
    "                imdb_ratings.append(imdb)\n",
    "\n",
    "                m_score = container.find('span', class_='metascore').text\n",
    "                metascores.append(int(m_score))\n",
    "\n",
    "                vote = container.find('span', attrs={'name': 'nv'})['data-value']\n",
    "                votes.append(int(vote))"
   ]
  },
  {
   "cell_type": "markdown",
   "id": "73ae659a",
   "metadata": {},
   "source": [
    "# Create the Movies Pandas Dataframe"
   ]
  },
  {
   "cell_type": "code",
   "execution_count": 5,
   "id": "35abd1fc",
   "metadata": {},
   "outputs": [
    {
     "data": {
      "text/html": [
       "<div>\n",
       "<style scoped>\n",
       "    .dataframe tbody tr th:only-of-type {\n",
       "        vertical-align: middle;\n",
       "    }\n",
       "\n",
       "    .dataframe tbody tr th {\n",
       "        vertical-align: top;\n",
       "    }\n",
       "\n",
       "    .dataframe thead th {\n",
       "        text-align: right;\n",
       "    }\n",
       "</style>\n",
       "<table border=\"1\" class=\"dataframe\">\n",
       "  <thead>\n",
       "    <tr style=\"text-align: right;\">\n",
       "      <th></th>\n",
       "      <th>Name of the Movie</th>\n",
       "      <th>Year</th>\n",
       "      <th>Rate</th>\n",
       "      <th>Metascore</th>\n",
       "      <th>Votes</th>\n",
       "    </tr>\n",
       "  </thead>\n",
       "  <tbody>\n",
       "    <tr>\n",
       "      <th>0</th>\n",
       "      <td>Inception</td>\n",
       "      <td>(2010)</td>\n",
       "      <td>8.8</td>\n",
       "      <td>74</td>\n",
       "      <td>2334129</td>\n",
       "    </tr>\n",
       "    <tr>\n",
       "      <th>1</th>\n",
       "      <td>Shutter Island</td>\n",
       "      <td>(2010)</td>\n",
       "      <td>8.2</td>\n",
       "      <td>63</td>\n",
       "      <td>1303396</td>\n",
       "    </tr>\n",
       "    <tr>\n",
       "      <th>2</th>\n",
       "      <td>Toy Story 3</td>\n",
       "      <td>(2010)</td>\n",
       "      <td>8.3</td>\n",
       "      <td>92</td>\n",
       "      <td>833234</td>\n",
       "    </tr>\n",
       "    <tr>\n",
       "      <th>3</th>\n",
       "      <td>Iron Man 2</td>\n",
       "      <td>(2010)</td>\n",
       "      <td>6.9</td>\n",
       "      <td>57</td>\n",
       "      <td>814835</td>\n",
       "    </tr>\n",
       "    <tr>\n",
       "      <th>4</th>\n",
       "      <td>Black Swan</td>\n",
       "      <td>(2010)</td>\n",
       "      <td>8.0</td>\n",
       "      <td>79</td>\n",
       "      <td>765214</td>\n",
       "    </tr>\n",
       "    <tr>\n",
       "      <th>...</th>\n",
       "      <td>...</td>\n",
       "      <td>...</td>\n",
       "      <td>...</td>\n",
       "      <td>...</td>\n",
       "      <td>...</td>\n",
       "    </tr>\n",
       "    <tr>\n",
       "      <th>1913</th>\n",
       "      <td>Kajillionaire</td>\n",
       "      <td>(2020)</td>\n",
       "      <td>6.4</td>\n",
       "      <td>78</td>\n",
       "      <td>19064</td>\n",
       "    </tr>\n",
       "    <tr>\n",
       "      <th>1914</th>\n",
       "      <td>The Rhythm Section</td>\n",
       "      <td>(2020)</td>\n",
       "      <td>5.4</td>\n",
       "      <td>45</td>\n",
       "      <td>18737</td>\n",
       "    </tr>\n",
       "    <tr>\n",
       "      <th>1915</th>\n",
       "      <td>Ammonite</td>\n",
       "      <td>(2020)</td>\n",
       "      <td>6.5</td>\n",
       "      <td>72</td>\n",
       "      <td>18684</td>\n",
       "    </tr>\n",
       "    <tr>\n",
       "      <th>1916</th>\n",
       "      <td>Jingle Jangle: A Christmas Journey</td>\n",
       "      <td>(2020)</td>\n",
       "      <td>6.4</td>\n",
       "      <td>69</td>\n",
       "      <td>18601</td>\n",
       "    </tr>\n",
       "    <tr>\n",
       "      <th>1917</th>\n",
       "      <td>The SpongeBob Movie: Sponge on the Run</td>\n",
       "      <td>(2020)</td>\n",
       "      <td>5.9</td>\n",
       "      <td>65</td>\n",
       "      <td>18538</td>\n",
       "    </tr>\n",
       "  </tbody>\n",
       "</table>\n",
       "<p>1918 rows × 5 columns</p>\n",
       "</div>"
      ],
      "text/plain": [
       "                           Name of the Movie    Year  Rate  Metascore    Votes\n",
       "0                                  Inception  (2010)   8.8         74  2334129\n",
       "1                             Shutter Island  (2010)   8.2         63  1303396\n",
       "2                                Toy Story 3  (2010)   8.3         92   833234\n",
       "3                                 Iron Man 2  (2010)   6.9         57   814835\n",
       "4                                 Black Swan  (2010)   8.0         79   765214\n",
       "...                                      ...     ...   ...        ...      ...\n",
       "1913                           Kajillionaire  (2020)   6.4         78    19064\n",
       "1914                      The Rhythm Section  (2020)   5.4         45    18737\n",
       "1915                                Ammonite  (2020)   6.5         72    18684\n",
       "1916      Jingle Jangle: A Christmas Journey  (2020)   6.4         69    18601\n",
       "1917  The SpongeBob Movie: Sponge on the Run  (2020)   5.9         65    18538\n",
       "\n",
       "[1918 rows x 5 columns]"
      ]
     },
     "execution_count": 5,
     "metadata": {},
     "output_type": "execute_result"
    }
   ],
   "source": [
    "# Create the Movies Pandas Dataframe\n",
    "movies_df=pd.DataFrame()\n",
    "movies_df['Name of the Movie'] = names\n",
    "movies_df['Year'] = years\n",
    "movies_df['Rate'] = imdb_ratings\n",
    "movies_df['Metascore'] = metascores\n",
    "movies_df['Votes'] = votes\n",
    "movies_df"
   ]
  },
  {
   "cell_type": "markdown",
   "id": "e3f57e58",
   "metadata": {},
   "source": [
    "# Clean up the year column"
   ]
  },
  {
   "cell_type": "code",
   "execution_count": 6,
   "id": "3ae69887",
   "metadata": {},
   "outputs": [],
   "source": [
    "# Clean up the year column - have it just be the year nothing else\n",
    "movies_df.loc[:, 'Year'] = movies_df['Year'].str[-5:-1].astype(int)"
   ]
  },
  {
   "cell_type": "markdown",
   "id": "6fdbbf67",
   "metadata": {},
   "source": [
    "# Need to make the IMDB and metascore ratings the same scale "
   ]
  },
  {
   "cell_type": "code",
   "execution_count": 7,
   "id": "7ea882a3",
   "metadata": {},
   "outputs": [],
   "source": [
    "# Need to make the IMDB and metascore ratings the same scale - so multiply the IMDB column by 10\n",
    "movies_df['n_Rate'] = movies_df['Rate'] * 10"
   ]
  },
  {
   "cell_type": "markdown",
   "id": "9f207751",
   "metadata": {},
   "source": [
    "# Write the results to a CSV"
   ]
  },
  {
   "cell_type": "code",
   "execution_count": 8,
   "id": "4823f4c2",
   "metadata": {
    "scrolled": true
   },
   "outputs": [
    {
     "data": {
      "text/html": [
       "<div>\n",
       "<style scoped>\n",
       "    .dataframe tbody tr th:only-of-type {\n",
       "        vertical-align: middle;\n",
       "    }\n",
       "\n",
       "    .dataframe tbody tr th {\n",
       "        vertical-align: top;\n",
       "    }\n",
       "\n",
       "    .dataframe thead th {\n",
       "        text-align: right;\n",
       "    }\n",
       "</style>\n",
       "<table border=\"1\" class=\"dataframe\">\n",
       "  <thead>\n",
       "    <tr style=\"text-align: right;\">\n",
       "      <th></th>\n",
       "      <th>Name of the Movie</th>\n",
       "      <th>Year</th>\n",
       "      <th>Rate</th>\n",
       "      <th>Metascore</th>\n",
       "      <th>Votes</th>\n",
       "      <th>n_Rate</th>\n",
       "    </tr>\n",
       "  </thead>\n",
       "  <tbody>\n",
       "    <tr>\n",
       "      <th>0</th>\n",
       "      <td>Inception</td>\n",
       "      <td>2010</td>\n",
       "      <td>8.8</td>\n",
       "      <td>74</td>\n",
       "      <td>2334129</td>\n",
       "      <td>88.0</td>\n",
       "    </tr>\n",
       "    <tr>\n",
       "      <th>1</th>\n",
       "      <td>Shutter Island</td>\n",
       "      <td>2010</td>\n",
       "      <td>8.2</td>\n",
       "      <td>63</td>\n",
       "      <td>1303396</td>\n",
       "      <td>82.0</td>\n",
       "    </tr>\n",
       "    <tr>\n",
       "      <th>2</th>\n",
       "      <td>Toy Story 3</td>\n",
       "      <td>2010</td>\n",
       "      <td>8.3</td>\n",
       "      <td>92</td>\n",
       "      <td>833234</td>\n",
       "      <td>83.0</td>\n",
       "    </tr>\n",
       "    <tr>\n",
       "      <th>3</th>\n",
       "      <td>Iron Man 2</td>\n",
       "      <td>2010</td>\n",
       "      <td>6.9</td>\n",
       "      <td>57</td>\n",
       "      <td>814835</td>\n",
       "      <td>69.0</td>\n",
       "    </tr>\n",
       "    <tr>\n",
       "      <th>4</th>\n",
       "      <td>Black Swan</td>\n",
       "      <td>2010</td>\n",
       "      <td>8.0</td>\n",
       "      <td>79</td>\n",
       "      <td>765214</td>\n",
       "      <td>80.0</td>\n",
       "    </tr>\n",
       "    <tr>\n",
       "      <th>...</th>\n",
       "      <td>...</td>\n",
       "      <td>...</td>\n",
       "      <td>...</td>\n",
       "      <td>...</td>\n",
       "      <td>...</td>\n",
       "      <td>...</td>\n",
       "    </tr>\n",
       "    <tr>\n",
       "      <th>1913</th>\n",
       "      <td>Kajillionaire</td>\n",
       "      <td>2020</td>\n",
       "      <td>6.4</td>\n",
       "      <td>78</td>\n",
       "      <td>19064</td>\n",
       "      <td>64.0</td>\n",
       "    </tr>\n",
       "    <tr>\n",
       "      <th>1914</th>\n",
       "      <td>The Rhythm Section</td>\n",
       "      <td>2020</td>\n",
       "      <td>5.4</td>\n",
       "      <td>45</td>\n",
       "      <td>18737</td>\n",
       "      <td>54.0</td>\n",
       "    </tr>\n",
       "    <tr>\n",
       "      <th>1915</th>\n",
       "      <td>Ammonite</td>\n",
       "      <td>2020</td>\n",
       "      <td>6.5</td>\n",
       "      <td>72</td>\n",
       "      <td>18684</td>\n",
       "      <td>65.0</td>\n",
       "    </tr>\n",
       "    <tr>\n",
       "      <th>1916</th>\n",
       "      <td>Jingle Jangle: A Christmas Journey</td>\n",
       "      <td>2020</td>\n",
       "      <td>6.4</td>\n",
       "      <td>69</td>\n",
       "      <td>18601</td>\n",
       "      <td>64.0</td>\n",
       "    </tr>\n",
       "    <tr>\n",
       "      <th>1917</th>\n",
       "      <td>The SpongeBob Movie: Sponge on the Run</td>\n",
       "      <td>2020</td>\n",
       "      <td>5.9</td>\n",
       "      <td>65</td>\n",
       "      <td>18538</td>\n",
       "      <td>59.0</td>\n",
       "    </tr>\n",
       "  </tbody>\n",
       "</table>\n",
       "<p>1918 rows × 6 columns</p>\n",
       "</div>"
      ],
      "text/plain": [
       "                           Name of the Movie  Year  Rate  Metascore    Votes  \\\n",
       "0                                  Inception  2010   8.8         74  2334129   \n",
       "1                             Shutter Island  2010   8.2         63  1303396   \n",
       "2                                Toy Story 3  2010   8.3         92   833234   \n",
       "3                                 Iron Man 2  2010   6.9         57   814835   \n",
       "4                                 Black Swan  2010   8.0         79   765214   \n",
       "...                                      ...   ...   ...        ...      ...   \n",
       "1913                           Kajillionaire  2020   6.4         78    19064   \n",
       "1914                      The Rhythm Section  2020   5.4         45    18737   \n",
       "1915                                Ammonite  2020   6.5         72    18684   \n",
       "1916      Jingle Jangle: A Christmas Journey  2020   6.4         69    18601   \n",
       "1917  The SpongeBob Movie: Sponge on the Run  2020   5.9         65    18538   \n",
       "\n",
       "      n_Rate  \n",
       "0       88.0  \n",
       "1       82.0  \n",
       "2       83.0  \n",
       "3       69.0  \n",
       "4       80.0  \n",
       "...      ...  \n",
       "1913    64.0  \n",
       "1914    54.0  \n",
       "1915    65.0  \n",
       "1916    64.0  \n",
       "1917    59.0  \n",
       "\n",
       "[1918 rows x 6 columns]"
      ]
     },
     "execution_count": 8,
     "metadata": {},
     "output_type": "execute_result"
    }
   ],
   "source": [
    "movies_df.to_csv('IMDB_Rating.csv',index=False)\n",
    "movies_df"
   ]
  },
  {
   "cell_type": "markdown",
   "id": "46edd61d",
   "metadata": {},
   "source": [
    "# Create two histograms"
   ]
  },
  {
   "cell_type": "markdown",
   "id": "ecbdeee1",
   "metadata": {},
   "source": [
    "## Create a histogram of the average IMDB rating"
   ]
  },
  {
   "cell_type": "code",
   "execution_count": 9,
   "id": "0ad18ed3",
   "metadata": {},
   "outputs": [
    {
     "data": {
      "image/png": "[encoded data removed]",
      "text/plain": [
       "<Figure size 576x432 with 1 Axes>"
      ]
     },
     "metadata": {
      "needs_background": "light"
     },
     "output_type": "display_data"
    }
   ],
   "source": [
    "#Create two histograms to visually compare the average IMDB rating to the average metascore rating\n",
    "movies_df.groupby('Name of the Movie')['n_Rate'].mean().plot(kind='hist', figsize=(8,6),color='#7F3540')\n",
    "plt.title(\"The Histogram of Avg.IMDB Rating\")\n",
    "plt.xlabel(\"IMDB n_Rate\")\n",
    "plt.ylabel(\"Frequency\")\n",
    "plt.savefig(\"The Histogram of Avg.IMDB Rating.jpg\")\n",
    "plt.show()"
   ]
  },
  {
   "cell_type": "markdown",
   "id": "5cc8167d",
   "metadata": {},
   "source": [
    "## Create another histogram of the average metascore rating"
   ]
  },
  {
   "cell_type": "code",
   "execution_count": 10,
   "id": "3e73ec1b",
   "metadata": {},
   "outputs": [
    {
     "data": {
      "image/png": "[encoded data removed]",
      "text/plain": [
       "<Figure size 576x432 with 1 Axes>"
      ]
     },
     "metadata": {
      "needs_background": "light"
     },
     "output_type": "display_data"
    }
   ],
   "source": [
    "movies_df.groupby('Name of the Movie')['Metascore'].mean().plot(kind='hist', figsize=(8,6),color='#1C4076')\n",
    "plt.title(\"The Histogram of Avg.Metascore Rating\")\n",
    "plt.xlabel(\"Metascore\")\n",
    "plt.ylabel(\"Frequency\")\n",
    "plt.savefig(\"The Histogram of Avg.Metascore Rating.jpg\")\n",
    "plt.show()"
   ]
  },
  {
   "cell_type": "code",
   "execution_count": null,
   "id": "9fef6ae1",
   "metadata": {},
   "outputs": [],
   "source": []
  }
 ],
 "metadata": {
  "kernelspec": {
   "display_name": "Python 3 (ipykernel)",
   "language": "python",
   "name": "python3"
  },
  "language_info": {
   "codemirror_mode": {
    "name": "ipython",
    "version": 3
   },
   "file_extension": ".py",
   "mimetype": "text/x-python",
   "name": "python",
   "nbconvert_exporter": "python",
   "pygments_lexer": "ipython3",
   "version": "3.9.7"
  },
  "toc": {
   "base_numbering": 1,
   "nav_menu": {},
   "number_sections": true,
   "sideBar": true,
   "skip_h1_title": false,
   "title_cell": "Table of Contents",
   "title_sidebar": "Contents",
   "toc_cell": true,
   "toc_position": {},
   "toc_section_display": true,
   "toc_window_display": false
  }
 },
 "nbformat": 4,
 "nbformat_minor": 5
}
